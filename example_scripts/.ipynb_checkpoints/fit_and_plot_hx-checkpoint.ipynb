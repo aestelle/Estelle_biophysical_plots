{
 "cells": [
  {
   "cell_type": "code",
   "execution_count": 8,
   "metadata": {},
   "outputs": [
    {
     "name": "stdout",
     "output_type": "stream",
     "text": [
      "initial peak intensity (a) = 3.345174692888647 +/- 0.026948718302806436\n",
      "relaxation rate (b) = 0.001174393420961889 +/- 2.15302764986696e-05\n",
      "baseline correction (c) = 0.009296336757729493 +/- 0.02881573112634138\n"
     ]
    },
    {
     "data": {
      "image/png": "[encoded data removed]",
      "text/plain": [
       "<Figure size 432x288 with 1 Axes>"
      ]
     },
     "metadata": {
      "needs_background": "light"
     },
     "output_type": "display_data"
    }
   ],
   "source": [
    "import numpy as np\n",
    "import sys\n",
    "from scipy.optimize import curve_fit\n",
    "import matplotlib as mpl\n",
    "import matplotlib.pyplot as plt\n",
    "\n",
    "##function for fitting\n",
    "##b is the value i want. \n",
    "##c is an offset to deal with the fact that the 0 doesn't always arrive at 0 in nvj\n",
    "def func(x,a,b,c):\n",
    "    return a*np.exp(-b*x)+c\n",
    "\n",
    "\n",
    "#data points collected. \n",
    "#Can be truncated to fit a subset of the full dataset (to avoid fitting noise)\n",
    "numpoints = 47\n",
    "#x axis in minutes\n",
    "xvar = 2880 \n",
    "\n",
    "\n",
    "#read in data from a text file.\n",
    "#this expects a tab-separated document with 3 columns:\n",
    "#time (in minutes), peak intensity (arbitrary units), and error in the intensity measurement\n",
    "\n",
    "time_list = []\n",
    "value_list = []\n",
    "error_list = []\n",
    "with open('../data/example_hx_decay.txt','r') as F:\n",
    "    for line in F:\n",
    "        time, value, error = line.strip('\\n').split('\\t')\n",
    "        time_list.append(float(time))\n",
    "        value_list.append(float(value))\n",
    "        error_list.append(float(error))\n",
    "\n",
    "#fit data to a model\n",
    "popt,pcov = curve_fit(func,time_list[0:numpoints],value_list[0:numpoints],\n",
    "                      sigma=error_list[0:numpoints],absolute_sigma=True,p0=(1,1e-2,1))\n",
    "\n",
    "#calculate parameter error from covariance matrix\n",
    "error = np.sqrt(np.diag(pcov))\n",
    "\n",
    "\n",
    "plt.style.use('seaborn-deep')\n",
    "plt.plot(time_list[0:numpoints],value_list[0:numpoints],'o',color=\"#386cb0\",mec='k')\n",
    "\n",
    "#generate x and y array for the fit\n",
    "xx = np.linspace(0,xvar,100)\n",
    "yy = func(xx,*popt)\n",
    "\n",
    "#plot fit line\n",
    "plt.plot(xx,yy,'k--')\n",
    "\n",
    "\n",
    "#define x and y limits\n",
    "plt.xlim(0,xvar)\n",
    "plt.ylim(-0.25,3.5)\n",
    "\n",
    "\n",
    "#optional: save figure\n",
    "#plt.savefig('hydrogen_exchange_with_fit.txt')\n",
    "\n",
    "\n",
    "\n",
    "print(f'initial peak intensity (a) = {popt[0]} +/- {error[0]}')\n",
    "print(f'relaxation rate (b) = {popt[1]} +/- {error[1]}')\n",
    "print(f'baseline correction (c) = {popt[2]} +/- {error[2]}')\n",
    "\n"
   ]
  },
  {
   "cell_type": "code",
   "execution_count": null,
   "metadata": {},
   "outputs": [],
   "source": []
  }
 ],
 "metadata": {
  "kernelspec": {
   "display_name": "Python 3",
   "language": "python",
   "name": "python3"
  },
  "language_info": {
   "codemirror_mode": {
    "name": "ipython",
    "version": 3
   },
   "file_extension": ".py",
   "mimetype": "text/x-python",
   "name": "python",
   "nbconvert_exporter": "python",
   "pygments_lexer": "ipython3",
   "version": "3.6.12"
  }
 },
 "nbformat": 4,
 "nbformat_minor": 4
}
