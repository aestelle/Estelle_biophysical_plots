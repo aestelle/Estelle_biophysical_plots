{
 "cells": [
  {
   "cell_type": "markdown",
   "metadata": {},
   "source": [
    "## This notebook combines the bar_plot and scatter_plot_with_errorbars notebooks \n",
    "\n",
    "I like using a mix of bar and scatter plots to compare and contrast two datasets. If you'd like to add a third dataset, just create a third ax.plot() or ax.bar() function and it will overlay on the same plot. As you create complex plots you may need to adjust [zorder](https://matplotlib.org/3.1.1/gallery/misc/zorder_demo.html) to ensure the data are plotted in your preferred order.\n"
   ]
  },
  {
   "cell_type": "code",
   "execution_count": 2,
   "metadata": {},
   "outputs": [],
   "source": [
    "#import dataset \n",
    "filename = '../data/example_relaxation_R1.txt'\n",
    "\n",
    "#initialize empty lists for data\n",
    "x_val_list_1 = []\n",
    "y_val_list_1 = []\n",
    "error_val_list_1 = []\n",
    "\n",
    "#open file and parse each line in a for loop\n",
    "with open(filename,'r') as F:\n",
    "    for line in F:\n",
    "        #this removes the linebreak (\\n) and splits the data into a list separated by tabs (\\t).\n",
    "        data = line.strip('\\n').split('\\t')\n",
    "        #append the 0th value in the data list to x_val_list. \n",
    "        #The 'float' here converts the entry from a text string to a number (specifically a floating point number, distinct from an integer)\n",
    "        x_val_list_1.append(float(data[0]))\n",
    "        #append the 1st value in the data list to y_val_list\n",
    "        y_val_list_1.append(float(data[1]))\n",
    "        #append the 2nd value in the data list to error_val_list\n",
    "        error_val_list_1.append(float(data[2]))\n"
   ]
  },
  {
   "cell_type": "code",
   "execution_count": 3,
   "metadata": {},
   "outputs": [],
   "source": [
    "#import dataset 2\n",
    "filename = '../data/example_relaxation_R1_datset2.txt'\n",
    "\n",
    "#initialize empty lists for data\n",
    "x_val_list_2 = []\n",
    "y_val_list_2 = []\n",
    "error_val_list_2 = []\n",
    "\n",
    "#open file and parse each line in a for loop\n",
    "with open(filename,'r') as F:\n",
    "    for line in F:\n",
    "        #this removes the linebreak (\\n) and splits the data into a list separated by tabs (\\t).\n",
    "        data = line.strip('\\n').split('\\t')\n",
    "        #append the 0th value in the data list to x_val_list. \n",
    "        #The 'float' here converts the entry from a text string to a number (specifically a floating point number, distinct from an integer)\n",
    "        x_val_list_2.append(float(data[0]))\n",
    "        #append the 1st value in the data list to y_val_list\n",
    "        y_val_list_2.append(float(data[1]))\n",
    "        #append the 2nd value in the data list to error_val_list\n",
    "        error_val_list_2.append(float(data[2]))\n",
    "        "
   ]
  },
  {
   "cell_type": "code",
   "execution_count": null,
   "metadata": {},
   "outputs": [],
   "source": [
    "\n",
    "import matplotlib as mpl\n",
    "import matplotlib.pyplot as plt\n",
    "#required if you are adjusting tick marks manually\n",
    "#from matplotlib.ticker import (MultipleLocator, FormatStrFormatter,\n",
    "#                               AutoMinorLocator)\n",
    "\n",
    "#initialize figure\n",
    "fig,ax = plt.subplots(figsize=(10,3))\n",
    "\n",
    "#set tick marks. I don't usually use these but they are useful to know\n",
    "#ax.xaxis.set_major_locator(MultipleLocator(10))\n",
    "#ax.yaxis.set_minor_locator(MultipleLocator(0.1))\n",
    "\n",
    "#set font sizes. I also do not use this very often. Note that this changes ALL fonts, there are separate commands for changing just tick marks etc.\n",
    "#mpl.rcParams.update({'font.size': 14})\n",
    "\n",
    "\n",
    "#define variables for the bar plot\n",
    "\n",
    "#bar color\n",
    "barcolor = '#7570b3'\n",
    "#edge color (black)\n",
    "baredgecolor = 'k'\n",
    "#bar width\n",
    "barwidth = 0.8\n",
    "#errorbar cap width\n",
    "barcapwidth = 1.5\n",
    "\n",
    "#define variables for the scatterplot\n",
    "\n",
    "#marker format\n",
    "markerformat = 'o'\n",
    "#marker color\n",
    "markercolor = 'None'\n",
    "#marker edge color\n",
    "markerecolor = '#d95f02'\n",
    "#marker size\n",
    "markersize = 5\n",
    "#errorbar cap width\n",
    "markercapwidth = 1.5\n",
    "#width edgelines\n",
    "markeredgewidth = 1.5\n",
    "\n",
    "#run barplot. \n",
    "ax.bar(x_val_list_1,y_val_list_1,yerr=error_val_list_1,color=barcolor,edgecolor=ecolor,width=width,capsize=capwidth)\n",
    "\n"
   ]
  }
 ],
 "metadata": {
  "kernelspec": {
   "display_name": "Python 3",
   "language": "python",
   "name": "python3"
  },
  "language_info": {
   "codemirror_mode": {
    "name": "ipython",
    "version": 3
   },
   "file_extension": ".py",
   "mimetype": "text/x-python",
   "name": "python",
   "nbconvert_exporter": "python",
   "pygments_lexer": "ipython3",
   "version": "3.6.12"
  }
 },
 "nbformat": 4,
 "nbformat_minor": 4
}
