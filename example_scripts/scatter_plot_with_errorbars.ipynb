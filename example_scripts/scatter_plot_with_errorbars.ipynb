{
 "cells": [
  {
   "cell_type": "code",
   "execution_count": 14,
   "metadata": {},
   "outputs": [
    {
     "data": {
      "text/plain": [
       "(0.0, 1.3)"
      ]
     },
     "execution_count": 14,
     "metadata": {},
     "output_type": "execute_result"
    },
    {
     "data": {
      "image/png": "[encoded data removed]",
      "text/plain": [
       "<Figure size 720x216 with 1 Axes>"
      ]
     },
     "metadata": {
      "needs_background": "light"
     },
     "output_type": "display_data"
    }
   ],
   "source": [
    "#name of data file\n",
    "filename = '../data/example_relaxation_R1_datset2.txt'\n",
    "\n",
    "\n",
    "#initialize empty lists for data\n",
    "x_val_list = []\n",
    "y_val_list = []\n",
    "error_val_list = []\n",
    "\n",
    "#open file and parse each line in a for loop\n",
    "with open(filename,'r') as F:\n",
    "    for line in F:\n",
    "        #this removes the linebreak (\\n) and splits the data into a list separated by tabs (\\t).\n",
    "        data = line.strip('\\n').split('\\t')\n",
    "        #append the 0th value in the data list to x_val_list. \n",
    "        #The 'float' here converts the entry from a text string to a number (specifically a floating point number, distinct from an integer)\n",
    "        x_val_list.append(float(data[0]))\n",
    "        #append the 1st value in the data list to y_val_list\n",
    "        y_val_list.append(float(data[1]))\n",
    "        #append the 2nd value in the data list to error_val_list\n",
    "        error_val_list.append(float(data[2]))\n",
    "        \n",
    "        \n",
    "\n",
    "import matplotlib as mpl\n",
    "import matplotlib.pyplot as plt\n",
    "\n",
    "#required if you are adjusting tick marks manually\n",
    "#from matplotlib.ticker import (MultipleLocator, FormatStrFormatter,\n",
    "#                               AutoMinorLocator)\n",
    "\n",
    "\n",
    "#initialize figure\n",
    "fig,ax = plt.subplots(figsize=(10,3))\n",
    "\n",
    "#marker format\n",
    "mformat = 'o'\n",
    "#marker color\n",
    "mcolor = 'None'\n",
    "#marker edge color\n",
    "ecolor = '#d95f02'\n",
    "#marker size\n",
    "msize = 5\n",
    "#errorbar cap width\n",
    "capwidth = 1.5\n",
    "#width edgelines\n",
    "edgewidth = 1.5\n",
    "\n",
    "\n",
    "\n",
    "\n",
    "#format: ax.errorbar(x range, y range, error range)\n",
    "ax.errorbar(x_val_list,y_val_list,yerr=error_val_list,mew=edgewidth,\n",
    "            fmt=mformat,color=mcolor,mec=ecolor,ecolor=ecolor,capsize=capwidth,markersize=msize)\n",
    "\n",
    "\n",
    "#define x and y scale. matplotlib will choose these automatically, but setting them manually gives you more contorl\n",
    "ax.set_xlim(5,142)\n",
    "ax.set_ylim(0,1.3)\n",
    "\n",
    "\n",
    "#optional: save figure. works as PNG or PDF (and probably others as well)\n",
    "#plt.savefig('example.png')"
   ]
  },
  {
   "cell_type": "code",
   "execution_count": null,
   "metadata": {},
   "outputs": [],
   "source": []
  }
 ],
 "metadata": {
  "kernelspec": {
   "display_name": "Python 3",
   "language": "python",
   "name": "python3"
  },
  "language_info": {
   "codemirror_mode": {
    "name": "ipython",
    "version": 3
   },
   "file_extension": ".py",
   "mimetype": "text/x-python",
   "name": "python",
   "nbconvert_exporter": "python",
   "pygments_lexer": "ipython3",
   "version": "3.6.12"
  }
 },
 "nbformat": 4,
 "nbformat_minor": 4
}
