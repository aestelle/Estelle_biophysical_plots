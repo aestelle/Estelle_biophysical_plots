{
 "cells": [
  {
   "cell_type": "markdown",
   "metadata": {},
   "source": [
    "## Getting started with basic plots\n",
    "This will walk you through some simple bar plots. I'm using some spin-relaxation NMR dynamics data as an example, but hopefully it should be easily adaptible to many applications. "
   ]
  },
  {
   "cell_type": "markdown",
   "metadata": {},
   "source": [
    "## Importing data\n",
    "First we have to get our data into python. What we'll need is two 'lists' in python terminology (often called arrays in other programming languages), one for the x-axis values, and other for the y-axis values. Optionally, I'll be importing a third list with uncertainties for each point. Each of these lists will need to be the same length, but gaps in the series are fine. i.e. if you are missing data at x=20, rather than adding 20 to the list of x values, and adding a 0 to the equivalent spot in the y list, just leave it off both lists.\n",
    "\n",
    "There are a couple simple ways to do this:\n",
    "- Importing data from text files. This is my preferred method as you can edit the files as needed and just re-run the notebook to plot new data. I am including an example block of code that will parse a tab-separated file into the three lists we need.\n",
    "- Write lists directly. This is often faster in the short term than writing code to parse text files, but comes with the downside that you will have to re-write the list every time you want to run a different set of data."
   ]
  },
  {
   "cell_type": "code",
   "execution_count": 12,
   "metadata": {},
   "outputs": [],
   "source": [
    "\n",
    "#name of data file\n",
    "filename = './data/example_relaxation_R1.txt'\n",
    "\n",
    "#initialize empty lists for data\n",
    "x_val_list = []\n",
    "y_val_list = []\n",
    "error_val_list = []\n",
    "\n",
    "#open file and parse each line in a for loop\n",
    "with open(filename,'r') as F:\n",
    "    for line in F:\n",
    "        \n",
    "        #this removes the linebreak (\\n) and splits the data into a list separated by tabs (\\t).\n",
    "        data = line.strip('\\n').split('\\t')\n",
    "\n",
    "        #append the 0th value in the data list to x_val_list. \n",
    "        #The 'float' here converts the entry from a text string to a number (specifically a floating point number, distinct from an integer)\n",
    "        x_val_list.append(float(data[0]))\n",
    "        \n",
    "        #append the 1st value in the data list to y_val_list\n",
    "        y_val_list.append(float(data[1]))\n",
    "        \n",
    "        #append the 2nd value in the data list to error_val_list\n",
    "        error_val_list.append(float(data[2]))\n",
    "\n",
    "#alternatively, if you want to write out your inputs by hand, they will look something like this (I've commented these lines out for the moment)\n",
    "\n",
    "#x_val_list = [9.0, 10.0, 12.0, 13.0, 14.0, 15.0, 16.0, 17.0, 18.0, 19.0, 20.0, 23.0, \n",
    "#              25.0, 26.0, 28.0, 29.0, 31.0, 32.0, 34.0, 35.0, 37.0, 38.0, 39.0, 41.0,\n",
    "#              42.0, 43.0, 44.0, 45.0, 47.0, 48.0, 49.0, 50.0, 52.0, 53.0, 55.0, 56.0,\n",
    "#              58.0, 59.0, 61.0, 62.0, 64.0, 65.0, 68.0, 69.0, 70.0, 71.0, 72.0, 73.0,\n",
    "#              74.0, 75.0, 76.0, 78.0, 79.0, 80.0, 81.0, 83.0, 85.0, 86.0, 87.0, 88.0,\n",
    "#              89.0, 91.0, 92.0, 93.0, 94.0, 95.0, 96.0, 97.0, 98.0, 100.0, 101.0, 103.0,\n",
    "#              104.0, 106.0, 107.0, 108.0, 109.0, 113.0, 114.0, 115.0, 117.0, 118.0, 119.0,\n",
    "#              120.0, 121.0, 123.0, 125.0, 126.0, 127.0, 129.0, 130.0, 131.0, 132.0, 133.0, 140.0]\n",
    "\n",
    "#y_val_list = [1.221, 1.097, 0.914, 0.953, 0.883, 0.906, 0.906, 0.891, 0.704, 0.843, 0.851, \n",
    "#              0.974, 0.932, 0.956, 0.8804, 0.849, 0.868, 0.9211, 0.873, 0.878, 0.8217, 0.7631,\n",
    "#              0.898, 0.9247,0.936, 0.8194, 0.972, 0.97, 0.907, 0.917, 0.969, 0.971, 0.966, \n",
    "#              0.996, 1.027, 1.037, 0.98,1.058, 1.018, 1.063, 0.9977, 0.953, 0.844, 0.895, 0.913,\n",
    "#              0.924, 0.861, 0.904, 0.93, 0.988, 0.893, 0.877, 0.8865, 0.818, 1.0008, 0.837, \n",
    "#              0.9867, 0.796, 0.844, 0.874, 0.872, 0.958, 0.889, 0.952, 0.8915, 0.9, 0.9349,\n",
    "#              0.891, 0.9357, 0.79, 0.8805, 0.82, 0.9006, 0.932, 0.856, 0.9046, 0.926, 0.869,\n",
    "#              0.8275, 0.936, 0.936, 0.9593, 0.875, 0.875, 0.8508, 0.844, 0.9605, 1.036, 0.938,\n",
    "#              0.927, 0.916, 0.931, 0.943, 0.953, 1.106]\n",
    "#\n",
    "#error_val_list = [0.026, 0.009, 0.014, 0.007, 0.006, 0.006, 0.007, 0.009, 0.008, 0.011, 0.01,\n",
    "#                  0.0038, 0.007, 0.0036, 0.0036, 0.011, 0.006, 0.004, 0.006, 0.005, 0.0044,\n",
    "#                  0.0028, 0.006, 0.0037, 0.005, 0.0049, 0.006, 0.006, 0.01, 0.013, 0.014, 0.012,\n",
    "#                  0.007, 0.009, 0.007, 0.014, 0.008, 0.008, 0.01, 0.012, 0.0049, 0.006, 0.01,\n",
    "#                  0.011, 0.013, 0.01, 0.012, 0.01, 0.013, 0.005, 0.007, 0.006, 0.0033, 0.007,\n",
    "#                  0.0039, 0.005, 0.0043, 0.023, 0.0041, 0.008, 0.008, 0.009, 0.007, 0.007, 0.0042,\n",
    "#                  0.005, 0.0041, 0.012, 0.0032, 0.025, 0.004, 0.007, 0.0039, 0.007, 0.007, 0.0048,\n",
    "#                  0.009, 0.005, 0.0048, 0.008, 0.009, 0.0042, 0.01, 0.009, 0.0043, 0.023, 0.0042,\n",
    "#                  0.006, 0.0043, 0.0036, 0.018, 0.006, 0.009, 0.006, 0.005]\n",
    "\n",
    "\n",
    "#Regardless of how you have input your data, you now have everything you need loaded into memory, and we can get started on plotting\n",
    "#if needed, you can always check your data lists by printing them, e.g:\n",
    "#print(x_val_list)\n"
   ]
  },
  {
   "cell_type": "markdown",
   "metadata": {},
   "source": [
    "## Generating Plots\n",
    "\n",
    "Now we are ready to plot our data. For this we will be using the python packages matplotlib and pyplot, which should be pre-installed on most python installations, but may need to be installed. You can install it yourself by running `pip install matplotlib` (or `conda install matplotlib` if you are running conda, which I recommend) in your terminal. [Python's full explanation](https://packaging.python.org/en/latest/tutorials/installing-packages/) of library installation is relatively thorough if you need assistance.\n",
    "\n",
    "To import python libraries, you simply include a line `import [library name]`. You can additionally write `import [library name] as [shorthand]` to make the library easy to refer to. For example I will be importing matplotlib as mpl to simplify things when referring to it further down in the notebook.\n",
    "\n",
    "In addition to importing matplotlib, I will be defining a lot of variables here as well. If you'd like to change anything about the figure, you can change the inputs here. Most of these should be relatively self-explanatory, but I will try to include comments with details where necessary."
   ]
  },
  {
   "cell_type": "code",
   "execution_count": 39,
   "metadata": {},
   "outputs": [],
   "source": [
    "import matplotlib as mpl\n",
    "import matplotlib.pyplot as plt\n",
    "\n",
    "\n",
    "#define plot height and width (in inches by default)\n",
    "height = 3\n",
    "width = 10\n",
    "\n",
    "#define color of the bar and edge\n",
    "bar_color = 'cornflowerblue'\n",
    "\n",
    "#example of hex code color\n",
    "edge_color = '#000000'\n",
    "\n",
    "#define the bar width\n",
    "bar_width = 0.8\n",
    "\n",
    "\n",
    "\n",
    "#a note about colors:\n",
    "#matplotlib wants colors to be defined as strings of text. Many common colors can just be written as-is.\n",
    "#it will also accept a string of a color hex code (e.g. '#ff0000' for red)\n",
    "#or a series of floats ranging from 0 to 1 representing RGB values (e.g. (1,0,0) for red)\n",
    "#more information about how matplotlib handles colors can be found at this link:\n",
    "#https://matplotlib.org/stable/tutorials/colors/colors.html\n",
    "\n"
   ]
  },
  {
   "cell_type": "code",
   "execution_count": 40,
   "metadata": {},
   "outputs": [
    {
     "data": {
      "text/plain": [
       "<BarContainer object of 95 artists>"
      ]
     },
     "execution_count": 40,
     "metadata": {},
     "output_type": "execute_result"
    },
    {
     "data": {
      "image/png": "[encoded data removed]",
      "text/plain": [
       "<Figure size 720x216 with 1 Axes>"
      ]
     },
     "metadata": {
      "needs_background": "light"
     },
     "output_type": "display_data"
    }
   ],
   "source": [
    "fig = plt.subplots(1,1,figsize=(width,height))\n",
    "plt.bar(x_val_list,y_val_list,color=bar_color,edgecolor=edge_color,width=bar_width)"
   ]
  },
  {
   "cell_type": "code",
   "execution_count": null,
   "metadata": {},
   "outputs": [],
   "source": []
  }
 ],
 "metadata": {
  "kernelspec": {
   "display_name": "Python 3",
   "language": "python",
   "name": "python3"
  },
  "language_info": {
   "codemirror_mode": {
    "name": "ipython",
    "version": 3
   },
   "file_extension": ".py",
   "mimetype": "text/x-python",
   "name": "python",
   "nbconvert_exporter": "python",
   "pygments_lexer": "ipython3",
   "version": "3.6.12"
  }
 },
 "nbformat": 4,
 "nbformat_minor": 4
}
